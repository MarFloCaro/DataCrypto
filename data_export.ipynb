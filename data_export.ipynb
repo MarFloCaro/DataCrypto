{
 "cells": [
  {
   "cell_type": "code",
   "execution_count": 1,
   "metadata": {},
   "outputs": [],
   "source": [
    "import pandas as pd\n",
    "from endpoints import *"
   ]
  },
  {
   "cell_type": "code",
   "execution_count": 2,
   "metadata": {},
   "outputs": [],
   "source": [
    "crypto_ids = ['bitcoin',\n",
    " 'dash',\n",
    " 'decred',\n",
    " 'dero',\n",
    " 'grin',\n",
    " 'monero',\n",
    " 'pirate-chain',\n",
    " 'secret',\n",
    " 'verge',\n",
    " 'zcash',\n",
    " 'zencash']"
   ]
  },
  {
   "cell_type": "code",
   "execution_count": 3,
   "metadata": {},
   "outputs": [],
   "source": [
    "market_chart_dict = get_market_chart_max(crypto_ids)"
   ]
  },
  {
   "cell_type": "code",
   "execution_count": 4,
   "metadata": {},
   "outputs": [
    {
     "name": "stdout",
     "output_type": "stream",
     "text": [
      "Exported DataFrame 'df_bitcoin_max' to df_bitcoin_max.csv\n",
      "Exported DataFrame 'df_dash_max' to df_dash_max.csv\n",
      "Exported DataFrame 'df_decred_max' to df_decred_max.csv\n",
      "Exported DataFrame 'df_dero_max' to df_dero_max.csv\n",
      "Exported DataFrame 'df_grin_max' to df_grin_max.csv\n",
      "Exported DataFrame 'df_monero_max' to df_monero_max.csv\n",
      "Exported DataFrame 'df_pirate_chain_max' to df_pirate_chain_max.csv\n",
      "Exported DataFrame 'df_secret_max' to df_secret_max.csv\n",
      "Exported DataFrame 'df_verge_max' to df_verge_max.csv\n",
      "Exported DataFrame 'df_zcash_max' to df_zcash_max.csv\n",
      "Exported DataFrame 'df_zencash_max' to df_zencash_max.csv\n"
     ]
    }
   ],
   "source": [
    "for key, df in market_chart_dict.items():\n",
    "    filename = f\"{key}.csv\"  \n",
    "    df.to_csv(filename, index=False)\n",
    "    print(f\"Exported DataFrame '{key}' to {filename}\")\n"
   ]
  },
  {
   "cell_type": "code",
   "execution_count": 5,
   "metadata": {},
   "outputs": [],
   "source": [
    "ohlc_dictionary = get_OHLC(crypto_ids)"
   ]
  },
  {
   "cell_type": "code",
   "execution_count": 6,
   "metadata": {},
   "outputs": [],
   "source": [
    "# Loop through each DataFrame in the dictionary\n",
    "for df_name, df in ohlc_dictionary.items():\n",
    "    # Calculate True Range (TR) for each row\n",
    "    df['high_low'] = df['high'] - df['low']\n",
    "    df['high_close_prev'] = abs(df['high'] - df['close'].shift(1))\n",
    "    df['low_close_prev'] = abs(df['low'] - df['close'].shift(1))\n",
    "    df['true_range'] = df[['high_low', 'high_close_prev', 'low_close_prev']].max(axis=1)\n",
    "    \n",
    "    # Remove intermediate columns used for calculation\n",
    "    df.drop(['high_low', 'high_close_prev', 'low_close_prev'], axis=1, inplace=True)\n"
   ]
  },
  {
   "cell_type": "code",
   "execution_count": 7,
   "metadata": {},
   "outputs": [
    {
     "name": "stdout",
     "output_type": "stream",
     "text": [
      "<class 'pandas.core.frame.DataFrame'>\n",
      "RangeIndex: 437 entries, 0 to 436\n",
      "Data columns (total 6 columns):\n",
      " #   Column      Non-Null Count  Dtype         \n",
      "---  ------      --------------  -----         \n",
      " 0   date        437 non-null    datetime64[ns]\n",
      " 1   open        437 non-null    float64       \n",
      " 2   high        437 non-null    float64       \n",
      " 3   low         437 non-null    float64       \n",
      " 4   close       437 non-null    float64       \n",
      " 5   true_range  437 non-null    float64       \n",
      "dtypes: datetime64[ns](1), float64(5)\n",
      "memory usage: 20.6 KB\n"
     ]
    }
   ],
   "source": [
    "ohlc_dictionary['df_grin_ohlc'].info()"
   ]
  },
  {
   "cell_type": "code",
   "execution_count": 6,
   "metadata": {},
   "outputs": [
    {
     "data": {
      "text/html": [
       "<div>\n",
       "<style scoped>\n",
       "    .dataframe tbody tr th:only-of-type {\n",
       "        vertical-align: middle;\n",
       "    }\n",
       "\n",
       "    .dataframe tbody tr th {\n",
       "        vertical-align: top;\n",
       "    }\n",
       "\n",
       "    .dataframe thead th {\n",
       "        text-align: right;\n",
       "    }\n",
       "</style>\n",
       "<table border=\"1\" class=\"dataframe\">\n",
       "  <thead>\n",
       "    <tr style=\"text-align: right;\">\n",
       "      <th></th>\n",
       "      <th>date</th>\n",
       "      <th>open</th>\n",
       "      <th>high</th>\n",
       "      <th>low</th>\n",
       "      <th>close</th>\n",
       "      <th>true_range</th>\n",
       "    </tr>\n",
       "  </thead>\n",
       "  <tbody>\n",
       "    <tr>\n",
       "      <th>0</th>\n",
       "      <td>2019-01-19</td>\n",
       "      <td>25.090000</td>\n",
       "      <td>25.090000</td>\n",
       "      <td>6.740000</td>\n",
       "      <td>6.740000</td>\n",
       "      <td>18.350000</td>\n",
       "    </tr>\n",
       "    <tr>\n",
       "      <th>1</th>\n",
       "      <td>2019-01-23</td>\n",
       "      <td>3.340000</td>\n",
       "      <td>4.720000</td>\n",
       "      <td>2.540000</td>\n",
       "      <td>4.580000</td>\n",
       "      <td>4.200000</td>\n",
       "    </tr>\n",
       "    <tr>\n",
       "      <th>2</th>\n",
       "      <td>2019-01-27</td>\n",
       "      <td>4.000000</td>\n",
       "      <td>8.950000</td>\n",
       "      <td>4.000000</td>\n",
       "      <td>8.950000</td>\n",
       "      <td>4.950000</td>\n",
       "    </tr>\n",
       "    <tr>\n",
       "      <th>3</th>\n",
       "      <td>2019-01-31</td>\n",
       "      <td>13.700000</td>\n",
       "      <td>13.700000</td>\n",
       "      <td>6.860000</td>\n",
       "      <td>6.860000</td>\n",
       "      <td>6.840000</td>\n",
       "    </tr>\n",
       "    <tr>\n",
       "      <th>4</th>\n",
       "      <td>2019-02-03</td>\n",
       "      <td>5.520000</td>\n",
       "      <td>6.310000</td>\n",
       "      <td>5.520000</td>\n",
       "      <td>6.110000</td>\n",
       "      <td>1.340000</td>\n",
       "    </tr>\n",
       "    <tr>\n",
       "      <th>...</th>\n",
       "      <td>...</td>\n",
       "      <td>...</td>\n",
       "      <td>...</td>\n",
       "      <td>...</td>\n",
       "      <td>...</td>\n",
       "      <td>...</td>\n",
       "    </tr>\n",
       "    <tr>\n",
       "      <th>432</th>\n",
       "      <td>2023-08-03</td>\n",
       "      <td>0.030752</td>\n",
       "      <td>0.032070</td>\n",
       "      <td>0.030494</td>\n",
       "      <td>0.032070</td>\n",
       "      <td>0.001576</td>\n",
       "    </tr>\n",
       "    <tr>\n",
       "      <th>433</th>\n",
       "      <td>2023-08-07</td>\n",
       "      <td>0.029703</td>\n",
       "      <td>0.030332</td>\n",
       "      <td>0.028273</td>\n",
       "      <td>0.028273</td>\n",
       "      <td>0.003797</td>\n",
       "    </tr>\n",
       "    <tr>\n",
       "      <th>434</th>\n",
       "      <td>2023-08-11</td>\n",
       "      <td>0.028465</td>\n",
       "      <td>0.038851</td>\n",
       "      <td>0.028465</td>\n",
       "      <td>0.037427</td>\n",
       "      <td>0.010578</td>\n",
       "    </tr>\n",
       "    <tr>\n",
       "      <th>435</th>\n",
       "      <td>2023-08-15</td>\n",
       "      <td>0.031990</td>\n",
       "      <td>0.041565</td>\n",
       "      <td>0.031990</td>\n",
       "      <td>0.038379</td>\n",
       "      <td>0.009575</td>\n",
       "    </tr>\n",
       "    <tr>\n",
       "      <th>436</th>\n",
       "      <td>2023-08-19</td>\n",
       "      <td>0.035227</td>\n",
       "      <td>0.035227</td>\n",
       "      <td>0.035227</td>\n",
       "      <td>0.035227</td>\n",
       "      <td>0.003152</td>\n",
       "    </tr>\n",
       "  </tbody>\n",
       "</table>\n",
       "<p>437 rows × 6 columns</p>\n",
       "</div>"
      ],
      "text/plain": [
       "          date       open       high       low     close  true_range\n",
       "0   2019-01-19  25.090000  25.090000  6.740000  6.740000   18.350000\n",
       "1   2019-01-23   3.340000   4.720000  2.540000  4.580000    4.200000\n",
       "2   2019-01-27   4.000000   8.950000  4.000000  8.950000    4.950000\n",
       "3   2019-01-31  13.700000  13.700000  6.860000  6.860000    6.840000\n",
       "4   2019-02-03   5.520000   6.310000  5.520000  6.110000    1.340000\n",
       "..         ...        ...        ...       ...       ...         ...\n",
       "432 2023-08-03   0.030752   0.032070  0.030494  0.032070    0.001576\n",
       "433 2023-08-07   0.029703   0.030332  0.028273  0.028273    0.003797\n",
       "434 2023-08-11   0.028465   0.038851  0.028465  0.037427    0.010578\n",
       "435 2023-08-15   0.031990   0.041565  0.031990  0.038379    0.009575\n",
       "436 2023-08-19   0.035227   0.035227  0.035227  0.035227    0.003152\n",
       "\n",
       "[437 rows x 6 columns]"
      ]
     },
     "execution_count": 6,
     "metadata": {},
     "output_type": "execute_result"
    }
   ],
   "source": [
    "ohlc_dictionary['df_grin_ohlc']"
   ]
  },
  {
   "cell_type": "code",
   "execution_count": 8,
   "metadata": {},
   "outputs": [
    {
     "name": "stdout",
     "output_type": "stream",
     "text": [
      "Exported DataFrame 'df_bitcoin_ohlc' to df_bitcoin_ohlc.csv\n",
      "Exported DataFrame 'df_dash_ohlc' to df_dash_ohlc.csv\n",
      "Exported DataFrame 'df_decred_ohlc' to df_decred_ohlc.csv\n",
      "Exported DataFrame 'df_dero_ohlc' to df_dero_ohlc.csv\n",
      "Exported DataFrame 'df_grin_ohlc' to df_grin_ohlc.csv\n",
      "Exported DataFrame 'df_monero_ohlc' to df_monero_ohlc.csv\n",
      "Exported DataFrame 'df_pirate_chain_ohlc' to df_pirate_chain_ohlc.csv\n",
      "Exported DataFrame 'df_secret_ohlc' to df_secret_ohlc.csv\n",
      "Exported DataFrame 'df_verge_ohlc' to df_verge_ohlc.csv\n",
      "Exported DataFrame 'df_zcash_ohlc' to df_zcash_ohlc.csv\n",
      "Exported DataFrame 'df_zencash_ohlc' to df_zencash_ohlc.csv\n"
     ]
    }
   ],
   "source": [
    "for key, df in ohlc_dictionary.items():\n",
    "    filename = f\"{key}.csv\"  \n",
    "    df.to_csv(filename, index=False)\n",
    "    print(f\"Exported DataFrame '{key}' to {filename}\")"
   ]
  }
 ],
 "metadata": {
  "kernelspec": {
   "display_name": "base",
   "language": "python",
   "name": "python3"
  },
  "language_info": {
   "codemirror_mode": {
    "name": "ipython",
    "version": 3
   },
   "file_extension": ".py",
   "mimetype": "text/x-python",
   "name": "python",
   "nbconvert_exporter": "python",
   "pygments_lexer": "ipython3",
   "version": "3.10.9"
  },
  "orig_nbformat": 4
 },
 "nbformat": 4,
 "nbformat_minor": 2
}
